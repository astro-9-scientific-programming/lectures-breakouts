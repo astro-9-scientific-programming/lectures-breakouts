{
 "cells": [
  {
   "cell_type": "code",
   "execution_count": 1,
   "metadata": {},
   "outputs": [
    {
     "name": "stdout",
     "output_type": "stream",
     "text": [
      "Populating the interactive namespace from numpy and matplotlib\n"
     ]
    }
   ],
   "source": [
    "%pylab inline"
   ]
  },
  {
   "cell_type": "markdown",
   "metadata": {},
   "source": [
    "# Data and NumPy model"
   ]
  },
  {
   "cell_type": "code",
   "execution_count": 2,
   "metadata": {},
   "outputs": [
    {
     "data": {
      "text/plain": [
       "<matplotlib.legend.Legend at 0x7fcb48c2c910>"
      ]
     },
     "execution_count": 2,
     "metadata": {},
     "output_type": "execute_result"
    },
    {
     "data": {
      "image/png": "[encoded data removed]",
      "text/plain": [
       "<Figure size 432x288 with 1 Axes>"
      ]
     },
     "metadata": {
      "needs_background": "light"
     },
     "output_type": "display_data"
    }
   ],
   "source": [
    "#data\n",
    "d_out = np.genfromtxt(\"./data/hooks_law.txt\")\n",
    "t_range=d_out[:,0]\n",
    "x_range=d_out[:,1]\n",
    "plt.plot(d_out[:,0],d_out[:,1],\"r.\",label=\"experiment\")\n",
    "plt.xlabel(\"t\")\n",
    "plt.ylabel(\"x\")\n",
    "#plt.plot(t_range,[true_motion(t,x_0,v_0,k,b,m) for t in t_range],label = \"theory curve\")\n",
    "plt.legend(loc=4)"
   ]
  },
  {
   "cell_type": "code",
   "execution_count": 3,
   "metadata": {},
   "outputs": [],
   "source": [
    "#equation of motion (numpy)\n",
    "def true_motion(t,x_0,v_0,k,b,m):\n",
    "    w0 = sqrt(k/m)\n",
    "    b0 = b/m\n",
    "    \n",
    "    if b0**2.-4.*w0**2.>0:\n",
    "        raise NameError(\"Not underdamped system! \"+ str(b0**2.-4.*w0**2.) )\n",
    "        \n",
    "    gamma = 1/2. *sqrt(4*w0**2. - b0**2.)\n",
    "    print(\"gamma\",4*w0**2. - b0**2.)\n",
    "    A = x_0\n",
    "    B = v_0 + 1/2.*gamma*x_0\n",
    "    print(\"w0\", w0, \"b0\",b0)\n",
    "    return (A*cos(t*gamma)+B*sin(t*gamma))*exp(-b0*t/m)"
   ]
  },
  {
   "cell_type": "code",
   "execution_count": 4,
   "metadata": {},
   "outputs": [],
   "source": [
    "#not really relevant here (isn't called)\n",
    "\n",
    "def chi_squared(data,parameter_guess):\n",
    "    x_0,v_0,k,b,m = parameter_guess\n",
    "    t_array = data[:,0]\n",
    "    x_experiment = data[:,1]\n",
    "    x_guess = np.array([true_motion(t,x_0,v_0,k,b,m) for t in t_array])\n",
    "    \n",
    "    chi_squared = np.power((x_guess - x_experiment),2)/0.05\n",
    "    \n",
    "    return np.sum(chi_squared)\n",
    "    "
   ]
  },
  {
   "cell_type": "code",
   "execution_count": 5,
   "metadata": {},
   "outputs": [],
   "source": [
    "#true values\n",
    "k = 8.25 #spring constant\n",
    "sigma_x = 0.04 #uncertainty in the x measurement\n",
    "x_0 = 0.5 #starting position\n",
    "v_0 = 0.0 #starting velocity\n",
    "b = 4. #damping\n",
    "m = 10. #mass"
   ]
  },
  {
   "cell_type": "code",
   "execution_count": 6,
   "metadata": {},
   "outputs": [
    {
     "name": "stdout",
     "output_type": "stream",
     "text": [
      "gamma 3.1399999999999997\n",
      "w0 0.9082951062292475 b0 0.4\n"
     ]
    },
    {
     "data": {
      "text/plain": [
       "<matplotlib.legend.Legend at 0x7fcb4a3c6c70>"
      ]
     },
     "execution_count": 6,
     "metadata": {},
     "output_type": "execute_result"
    },
    {
     "data": {
      "image/png": "[encoded data removed]",
      "text/plain": [
       "<Figure size 432x288 with 1 Axes>"
      ]
     },
     "metadata": {
      "needs_background": "light"
     },
     "output_type": "display_data"
    }
   ],
   "source": [
    "#plotting data and true model\n",
    "\n",
    "d_out = np.genfromtxt(\"./data/hooks_law.txt\")\n",
    "t_range=d_out[:,0]\n",
    "x_range=d_out[:,1]\n",
    "plt.plot(d_out[:,0],d_out[:,1],\"r.\",label=\"experiment\")\n",
    "plt.plot(d_out[:,0],true_motion(d_out[:,0],x_0,v_0,k,b,m),\"b--\",label=\"model?\")\n",
    "\n",
    "plt.xlabel(\"t\")\n",
    "plt.ylabel(\"x\")\n",
    "#plt.plot(t_range,[true_motion(t,x_0,v_0,k,b,m) for t in t_range],label = \"theory curve\")\n",
    "plt.legend(loc=4)"
   ]
  },
  {
   "cell_type": "markdown",
   "metadata": {},
   "source": [
    "# TensorFlow model and optimization"
   ]
  },
  {
   "cell_type": "code",
   "execution_count": 7,
   "metadata": {},
   "outputs": [],
   "source": [
    "#defining variables for tensorflow model AND INITIALIZING VARIABLES!\n",
    "\n",
    "import tensorflow as tf\n",
    "import numpy as np\n",
    "rng = np.random\n",
    "\n",
    "# disable eager execution\n",
    "tf.compat.v1.disable_eager_execution()\n",
    "\n",
    "X = tf.Variable([0.50,9.25,2.0], name=\"variables\") # x_0, k, and b, respectively\n",
    "\n",
    "T = tf.compat.v1.placeholder(\"float\")\n",
    "Y = tf.compat.v1.placeholder(\"float\")\n",
    "\n",
    "n_samples = len(d_out[:,0])"
   ]
  },
  {
   "cell_type": "code",
   "execution_count": 8,
   "metadata": {},
   "outputs": [],
   "source": [
    "#defining EoM in tensorflow\n",
    "\n",
    "w0 = tf.sqrt(tf.divide(X[1],m))\n",
    "b0 = tf.divide(X[2],m)\n",
    "\n",
    "\n",
    "w02 = tf.multiply(4.0,tf.pow(w0,2))\n",
    "b02 =tf.pow(b0,2)\n",
    "\n",
    "inner = tf.subtract(w02,b02)\n",
    "inner1 = tf.pow(inner,1.0/2.0)\n",
    "gamma = tf.multiply(1/2.,inner1)\n",
    "    \n",
    "A = X[0]\n",
    "B = tf.add(v_0,tf.multiply(1/2.,tf.multiply(gamma,X[0])))\n",
    "inter1 = tf.multiply(A,tf.cos(tf.multiply(T,gamma)))\n",
    "inter2 = tf.multiply(B,tf.sin(tf.multiply(T,gamma)))\n",
    "pred = tf.multiply(tf.add(inter1,inter2),tf.exp(tf.multiply(tf.multiply(-1.0,b0),tf.divide(T,m))))\n",
    "\n",
    "cost = tf.reduce_sum(tf.pow(pred-Y, 2))/(2*n_samples)"
   ]
  },
  {
   "cell_type": "code",
   "execution_count": 9,
   "metadata": {},
   "outputs": [],
   "source": [
    "#tensorflow optmization./display parameters\n",
    "lr = 10.0\n",
    "training_epochs = 1000\n",
    "display_step = 50\n",
    "\n",
    "#optimizer = tf.train.GradientDescentOptimizer(learning_rate).minimize(cost)\n",
    "optimizer = tf.compat.v1.train.AdamOptimizer(learning_rate=lr,\n",
    "    beta1=0.9,\n",
    "    beta2=0.999,\n",
    "    epsilon=1e-08,)\n",
    "gradients, variables = zip(*optimizer.compute_gradients(cost))\n",
    "gradients, _ = tf.clip_by_global_norm(gradients, 0.000000000001)\n",
    "opt = optimizer.apply_gradients(zip(gradients, variables))"
   ]
  },
  {
   "cell_type": "code",
   "execution_count": 10,
   "metadata": {},
   "outputs": [
    {
     "name": "stdout",
     "output_type": "stream",
     "text": [
      "1.9131126\n"
     ]
    }
   ],
   "source": [
    "#running just one value through to debug (not needed to run before optimization)\n",
    "\n",
    "init = tf.compat.v1.global_variables_initializer()\n",
    "\n",
    "with tf.compat.v1.Session() as sess:\n",
    "    sess.run(init)\n",
    "\n",
    "    print(inner1.eval(feed_dict={T: d_out[:,0], Y:d_out[:,1]}))\n",
    "    "
   ]
  },
  {
   "cell_type": "code",
   "execution_count": 11,
   "metadata": {},
   "outputs": [
    {
     "name": "stdout",
     "output_type": "stream",
     "text": [
      "Epoch: 0050 cost= 0.000901511 X= [0.42127  8.123178 2.160953]\n",
      "Epoch: 0100 cost= 0.000777309 X= [0.41540015 8.027837   2.234439  ]\n",
      "Epoch: 0150 cost= 0.000716765 X= [0.42134023 8.030303   2.2995229 ]\n",
      "Epoch: 0200 cost= 0.000690092 X= [0.42337167 8.034188   2.3652172 ]\n",
      "Epoch: 0250 cost= 0.000645092 X= [0.42827776 8.040814   2.4285982 ]\n",
      "Epoch: 0300 cost= 0.000629906 X= [0.4291619 8.0483265 2.489309 ]\n",
      "Epoch: 0350 cost= 0.000601661 X= [0.43202755 8.052196   2.5478344 ]\n",
      "Epoch: 0400 cost= 0.000566089 X= [0.43641382 8.057364   2.6031888 ]\n",
      "Epoch: 0450 cost= 0.000537449 X= [0.44007435 8.062374   2.6573231 ]\n",
      "Epoch: 0500 cost= 0.000510564 X= [0.44390678 8.066561   2.7082238 ]\n",
      "Epoch: 0550 cost= 0.000495148 X= [0.44554642 8.072329   2.7569044 ]\n",
      "Epoch: 0600 cost= 0.000483339 X= [0.44653907 8.07833    2.8051994 ]\n",
      "Epoch: 0650 cost= 0.000465644 X= [0.44902202 8.084103   2.8517392 ]\n",
      "Epoch: 0700 cost= 0.000450495 X= [0.4510959 8.087908  2.8982246]\n",
      "Epoch: 0750 cost= 0.000440427 X= [0.4523836 8.0851345 2.9449186]\n",
      "Epoch: 0800 cost= 0.000441700 X= [0.45165834 8.083987   2.9921284 ]\n",
      "Epoch: 0850 cost= 0.000427167 X= [0.45371947 8.092742   3.0364459 ]\n",
      "Epoch: 0900 cost= 0.000419144 X= [0.4547706 8.099067  3.0810215]\n",
      "Epoch: 0950 cost= 0.000398968 X= [0.45831847 8.107154   3.1247833 ]\n",
      "Epoch: 1000 cost= 0.000396221 X= [0.4584202 8.113576  3.1684203]\n",
      "Optimization Finished!\n",
      "Training cost= 0.00039622097 X= [0.4584202 8.113576  3.1684203] \n",
      "\n"
     ]
    }
   ],
   "source": [
    "#optimization scheme\n",
    "\n",
    "init = tf.compat.v1.global_variables_initializer()\n",
    "\n",
    "with tf.compat.v1.Session() as sess:\n",
    "\n",
    "    # Run the initializer\n",
    "    sess.run(init)\n",
    "\n",
    "    # Fit all training data\n",
    "    for epoch in range(training_epochs):\n",
    "        for (x, y) in zip(d_out[:,0], d_out[:,1]):\n",
    "            sess.run(opt, feed_dict={T: x, Y: y})\n",
    "\n",
    "        # Display logs per epoch step\n",
    "        if (epoch+1) % display_step == 0:\n",
    "            c = sess.run(cost, feed_dict={T: d_out[:,0], Y:d_out[:,1]})\n",
    "            print(\"Epoch:\", '%04d' % (epoch+1), \"cost=\", \"{:.9f}\".format(c), \\\n",
    "                \"X=\", sess.run(X))\n",
    "\n",
    "    print(\"Optimization Finished!\")\n",
    "    training_cost = sess.run(cost, feed_dict={T: d_out[:,0], Y:d_out[:,1]})\n",
    "    print(\"Training cost=\", training_cost, \"X=\", sess.run(X), '\\n')\n"
   ]
  },
  {
   "cell_type": "code",
   "execution_count": 12,
   "metadata": {},
   "outputs": [
    {
     "data": {
      "text/plain": [
       "array([[-0.96515096, -1.74790308,  1.24822074],\n",
       "       [ 0.76606848, -0.4315251 , -0.79459736],\n",
       "       [ 0.43560258,  0.0018575 ,  0.21430857]])"
      ]
     },
     "execution_count": 12,
     "metadata": {},
     "output_type": "execute_result"
    }
   ],
   "source": [
    "np.random.randn(3,3)"
   ]
  },
  {
   "cell_type": "code",
   "execution_count": 13,
   "metadata": {},
   "outputs": [],
   "source": [
    "X = tf.Variable([0.50,9.25,2.0], name=\"variables\")\n",
    "T = tf.compat.v1.placeholder(\"float\")\n",
    "\n",
    "f = T**2\n",
    "r_g = tf.gradients(f,T)"
   ]
  },
  {
   "cell_type": "code",
   "execution_count": 14,
   "metadata": {},
   "outputs": [
    {
     "name": "stdout",
     "output_type": "stream",
     "text": [
      "[6.0]\n"
     ]
    }
   ],
   "source": [
    "init = tf.compat.v1.global_variables_initializer()\n",
    "\n",
    "with tf.compat.v1.Session() as sess:\n",
    "    print(sess.run(r_g, feed_dict={T: 3}))\n"
   ]
  },
  {
   "cell_type": "code",
   "execution_count": null,
   "metadata": {},
   "outputs": [],
   "source": []
  }
 ],
 "metadata": {
  "kernelspec": {
   "display_name": "Lya-tf",
   "language": "python",
   "name": "lya-tf"
  },
  "language_info": {
   "codemirror_mode": {
    "name": "ipython",
    "version": 3
   },
   "file_extension": ".py",
   "mimetype": "text/x-python",
   "name": "python",
   "nbconvert_exporter": "python",
   "pygments_lexer": "ipython3",
   "version": "3.8.10"
  }
 },
 "nbformat": 4,
 "nbformat_minor": 4
}
